{
 "cells": [
  {
   "cell_type": "markdown",
   "metadata": {
    "slideshow": {
     "slide_type": "slide"
    }
   },
   "source": [
    "### ArcGIS Administration at Scale\n",
    "## ESRI Southeast User Conference 2018\n",
    "## Seth Peery, Sr. GIS Architect, Virginia Tech\n",
    "### May 3, 2018"
   ]
  },
  {
   "cell_type": "markdown",
   "metadata": {
    "slideshow": {
     "slide_type": "subslide"
    }
   },
   "source": [
    "This presentation is given as a jupyter notebook. Jupyter notebooks are a web-based interactive Python development environment.\n",
    "![Architecture](jupyterarch.png)"
   ]
  },
  {
   "cell_type": "markdown",
   "metadata": {
    "slideshow": {
     "slide_type": "subslide"
    }
   },
   "source": [
    "We don't have to run a Jupyter notebook server, though.  You should have the ArcGIS Python API installed already if you have ArcGIS Pro.  See https://developers.arcgis.com/python/guide/using-the-jupyter-notebook-environment/ "
   ]
  },
  {
   "cell_type": "code",
   "execution_count": null,
   "metadata": {
    "slideshow": {
     "slide_type": "subslide"
    }
   },
   "outputs": [],
   "source": [
    "# That means we can run code.   Like this:\n",
    "from arcgis import *\n",
    "gis = GIS()\n",
    "map = gis.map(\"Charlotte Convention Center, Charlotte, NC\")\n",
    "map"
   ]
  },
  {
   "cell_type": "markdown",
   "metadata": {
    "slideshow": {
     "slide_type": "slide"
    }
   },
   "source": [
    "# Key concepts"
   ]
  },
  {
   "cell_type": "markdown",
   "metadata": {
    "slideshow": {
     "slide_type": "slide"
    }
   },
   "source": [
    "# Rationale for org management\n",
    "* Software as a Service products must be managed with the same attention we give on-premises systems\n",
    "* Management objective is to lower impediments to use of AGO\n",
    "* AGOL depends on finite shared resources; org administration is the stewardship of these resources\n",
    " * named users\n",
    " * service credits\n",
    " * Pro and other licenses\n",
    " * usability and organization of the site\n",
    "* AGOL orgs can become unwieldy at scale\n",
    "* User lifecycle stages require different management practices over time\n",
    "* Processes, training and automation become increasingly important for large orgs\n"
   ]
  },
  {
   "cell_type": "markdown",
   "metadata": {},
   "source": [
    "# Org administration tasks\n",
    "* Enterprise Logins\n",
    "* Auto provisioning\n",
    "* Initial default privileges and entitements\n",
    "* Credit stewardship\n",
    "* Pro Licenses\n",
    "* Ad hoc requests\n",
    "* Content migration\n",
    "* Deprovisioning"
   ]
  },
  {
   "cell_type": "markdown",
   "metadata": {
    "slideshow": {
     "slide_type": "slide"
    }
   },
   "source": [
    "![events](adminflow.png)"
   ]
  },
  {
   "cell_type": "markdown",
   "metadata": {
    "slideshow": {
     "slide_type": "slide"
    }
   },
   "source": [
    "## The Python API for organization administration\n",
    "The python API provides a set of objects for administering your Web GIS.\n",
    "![GIS Module](http://esri.github.io/arcgis-python-api/notebooks/nbimages/guide_gis_module_01.png)"
   ]
  },
  {
   "cell_type": "markdown",
   "metadata": {
    "slideshow": {
     "slide_type": "slide"
    }
   },
   "source": [
    "## Connecting to your Web GIS (ArcGIS Online / ArcGIS Enterprise)\n",
    "To connect to your organization, we import the requisite libraries and then create an object of type \"GIS\":"
   ]
  },
  {
   "cell_type": "code",
   "execution_count": null,
   "metadata": {
    "slideshow": {
     "slide_type": "fragment"
    }
   },
   "outputs": [],
   "source": [
    "from arcgis import *\n",
    "import requests\n",
    "import time\n",
    "import csv\n",
    "import json\n",
    "import pandas\n",
    "from time import strftime"
   ]
  },
  {
   "cell_type": "markdown",
   "metadata": {
    "slideshow": {
     "slide_type": "subslide"
    }
   },
   "source": [
    "### Syntax to connect to ArcGIS Online\n",
    "` gis = GIS(\"https://myorganization.maps.arcgis.com\",username=\"An_admin_user\",password=\"Please_do_not_put_this_in_clear_text\")   ` "
   ]
  },
  {
   "cell_type": "markdown",
   "metadata": {},
   "source": [
    "In my case I put org-specific stuff into a config file so this notebook can be more easily shared with others.\n",
    "The file looks like this:\n",
    "\n",
    "`{\n",
    "    \"agolOrg\":{\n",
    "            \"url\":\"https://yourOrgShortName.maps.arcgis.com\",\n",
    "            \"username\":\"*******,\n",
    "            \"password\":\"*******\",\n",
    "            \"shortName\":\"yourOrgShortName\"\n",
    "    },\n",
    "    \"authService\":{\n",
    "            \"url\":\"https://some_url_that_checks_usernames\",\n",
    "            \"username\":\"*****\",\n",
    "            \"password\":\"*****\",\n",
    "            \"valueIfTrue\":\"true\"\n",
    "    }\n",
    "}`"
   ]
  },
  {
   "cell_type": "markdown",
   "metadata": {
    "slideshow": {
     "slide_type": "slide"
    }
   },
   "source": [
    "### Making the Connection to your Org"
   ]
  },
  {
   "cell_type": "code",
   "execution_count": null,
   "metadata": {
    "slideshow": {
     "slide_type": "subslide"
    }
   },
   "outputs": [],
   "source": [
    "\n",
    "# Then load it up like this\n",
    "with open('orgConfig.json') as configFile:\n",
    "    myConfig = json.load(configFile)\n",
    "\n",
    "# now connect\n",
    "gis = GIS(myConfig['agolOrg']['url'],username=myConfig['agolOrg']['username'],password=myConfig['agolOrg']['password'])    \n",
    "\n",
    "# verify that it works\n",
    "try:\n",
    "    org = gis.properties.name\n",
    "    print (\"Connected to \" + org)\n",
    "except exception as ex:\n",
    "        print (\"Error retrieving AGOL org properties.\")"
   ]
  },
  {
   "cell_type": "markdown",
   "metadata": {
    "slideshow": {
     "slide_type": "slide"
    }
   },
   "source": [
    "Now let's get some info about our users."
   ]
  },
  {
   "cell_type": "code",
   "execution_count": null,
   "metadata": {
    "slideshow": {
     "slide_type": "subslide"
    }
   },
   "outputs": [],
   "source": [
    "userList = []\n",
    "users = gis.users.search(max_users=20)\n",
    "\n",
    "for user in users:\n",
    "    #These things come straight from the user dict\n",
    "    d_esriUsername = user.username\n",
    "    d_fullName = user.fullName\n",
    "    d_email = user.email\n",
    "    d_role = user.role\n",
    "    d_storage = (user.storageUsage / 1024)\n",
    "    \n",
    "    #number of content items <=100 is returned by length of items arr\n",
    "    d_items = len(user.items())\n",
    "    #print(d_items)\n",
    "    \n",
    "    #VT PID is returned by stripping off the _virginiatech\n",
    "    d_pid = user.username.rsplit(\"_\"+myConfig['agolOrg']['shortName'])[0]\n",
    "    \n",
    "    #last access comes from https://developers.arcgis.com/python/guide/accessing-and-managing-users/\n",
    "    t_last_accessed = time.localtime(user.lastLogin/1000)\n",
    "    d_lastAccess = \"{}/{}/{}\".format(t_last_accessed[0], t_last_accessed[1], t_last_accessed[2])\n",
    "    \n",
    "    #count of groups this user is a member of\n",
    "    d_groupCount = len(user.groups)\n",
    "    \n",
    "    #Now build a data structure    \n",
    "    currentUserInfo = {\"pid\":d_pid,\n",
    "                        \"esriUsername\":d_esriUsername,\n",
    "                        \"fullName\":d_fullName,\n",
    "                        \"email\":d_email,\n",
    "                        \"storage\":d_storage,\n",
    "                        \"role\":d_role,\n",
    "                        \"lastAccess\":d_lastAccess,\n",
    "                        \"groups\":d_groupCount,\n",
    "                        \"items\":d_items}\n",
    "    userList.append(currentUserInfo)\n",
    "    \n",
    "# iteration done.\n",
    "# now let's make a dataframe.  We'll use this later.\n",
    "df = pandas.DataFrame(userList)\n",
    "df\n",
    "\n",
    "\n"
   ]
  },
  {
   "cell_type": "markdown",
   "metadata": {
    "slideshow": {
     "slide_type": "slide"
    }
   },
   "source": [
    "Now that we have a data structure of user information in memory, we can make administrative decisions based on it.\n",
    "\n",
    "* Search for a role and grant its members ArcGIS Pro licenses\n",
    "* Delete \"drive by\" users\n",
    "* Identify users not affiliated with the institution using an out-of-band lookup service"
   ]
  },
  {
   "cell_type": "code",
   "execution_count": null,
   "metadata": {
    "slideshow": {
     "slide_type": "skip"
    }
   },
   "outputs": [],
   "source": [
    "# What are these weird custom roles?   Let's find out\n",
    "roles = gis.users.roles.all()\n",
    "for role in roles:\n",
    "    print(role)"
   ]
  },
  {
   "cell_type": "code",
   "execution_count": null,
   "metadata": {
    "slideshow": {
     "slide_type": "slide"
    }
   },
   "outputs": [],
   "source": [
    "gis.users.roles.get_role('pH1lPndPVtVbrE6l')"
   ]
  },
  {
   "cell_type": "code",
   "execution_count": null,
   "metadata": {
    "slideshow": {
     "slide_type": "subslide"
    }
   },
   "outputs": [],
   "source": [
    "# Let's get all the users whose role is \"New User\".\n",
    "# We're using the pandas query syntax here\n",
    "df.loc[(df['role'] == 'pH1lPndPVtVbrE6l')]"
   ]
  },
  {
   "cell_type": "code",
   "execution_count": null,
   "metadata": {
    "slideshow": {
     "slide_type": "slide"
    }
   },
   "outputs": [],
   "source": [
    "# Let's give our new users an ArcGIS Pro license\n",
    "# For now, we'll use the licenses and entitlements we expect\n",
    "entitlements = {'ArcGIS Pro': ['geostatAnalystN', 'spatialAnalystN', 'networkAnalystN', 'dataReviewerN',\n",
    "                               'dataInteropN', 'workflowMgrN', '3DAnalystN', 'desktopAdvN']}\n",
    "licenses = {lic: gis.admin.license.get(lic) for lic in entitlements}\n",
    "new_users = gis.users.search(\"pH1lPndPVtVbrE6l\")            \n",
    "for u in new_users:\n",
    "    for license_type in entitlements:\n",
    "        lic = licenses[license_type]\n",
    "        # THIS IS A DEMO SO WE DON'T ACTUALLY PULL THE TRIGGER\n",
    "        #lic.assign(username=u.username, entitlements=entitlements[license_type])\n",
    "        print('{0} entitlements granted to user {1.username}'.format(license_type, u))"
   ]
  },
  {
   "cell_type": "markdown",
   "metadata": {
    "slideshow": {
     "slide_type": "slide"
    }
   },
   "source": [
    "## Example 2: Drive by users"
   ]
  },
  {
   "cell_type": "code",
   "execution_count": null,
   "metadata": {
    "slideshow": {
     "slide_type": "fragment"
    }
   },
   "outputs": [],
   "source": [
    "#Let's just look for the users who have no content items or storage, nor are they in any groups.\n",
    "df.loc[(df['storage'] == 0) & (df['items'] == 0) &(df['groups'] ==0)]"
   ]
  },
  {
   "cell_type": "code",
   "execution_count": null,
   "metadata": {
    "slideshow": {
     "slide_type": "slide"
    }
   },
   "outputs": [],
   "source": [
    "# Sort by last accessed time.\n",
    "df.sort_values('lastAccess')"
   ]
  },
  {
   "cell_type": "markdown",
   "metadata": {
    "slideshow": {
     "slide_type": "slide"
    }
   },
   "source": [
    "####  I feel reasonably confident we can get rid of users who \n",
    "* own no content items\n",
    "* are members of no groups\n",
    "* use no storage\n",
    "* have not logged in for a year\n",
    "\n",
    "... since if that user logs back in, it will be like they never left."
   ]
  },
  {
   "cell_type": "code",
   "execution_count": null,
   "metadata": {
    "slideshow": {
     "slide_type": "slide"
    }
   },
   "outputs": [],
   "source": [
    "# SO we nuke them from orbit\n",
    "deleteList = df.loc[(df['storage'] == 0) & (df['items'] == 0) &(df['groups'] ==0) &(df['lastAccess'].str[:4] != '2018')]\n",
    "deleteList"
   ]
  },
  {
   "cell_type": "code",
   "execution_count": null,
   "metadata": {
    "slideshow": {
     "slide_type": "fragment"
    }
   },
   "outputs": [],
   "source": [
    "for index, row in deleteList.iterrows():\n",
    "    sUserToDelete = df['esriUsername'].values[index]\n",
    "    print (\"Deleting \" + sUserToDelete +\"...\")\n",
    "    #Here we would simply call\n",
    "    #userToDelete = gis.users.search(sUserToDelete, max_users=1)\n",
    "    #userToDelete.delete()"
   ]
  },
  {
   "cell_type": "markdown",
   "metadata": {
    "slideshow": {
     "slide_type": "slide"
    }
   },
   "source": [
    "## Out of band affiliation check\n",
    "Since ArcGIS Online cannot pull extended attributes from a SAML identity provider beyond username and email, we developed a web service to perform a check for \"Active\" status for any username we provide it.  \n",
    "\n",
    "NOTE that this does not translate outside of the Virginia Tech context; we developed a custom solution for this.  \n",
    "Your custom web services can be integrated... in orgConfig.json, provide values for the \"authService\" group:\n",
    "* URL\n",
    "* authKey or password to access the service\n",
    "* value to be returned if the user is a valid member"
   ]
  },
  {
   "cell_type": "code",
   "execution_count": null,
   "metadata": {
    "slideshow": {
     "slide_type": "subslide"
    }
   },
   "outputs": [],
   "source": [
    "userList = []\n",
    "users = gis.users.search(max_users=20)\n",
    "\n",
    "# Wrap the call to the REST service in a function\n",
    "def isActiveVT(pid):\n",
    "    result = False\n",
    "    url = myConfig['authService']['url']\n",
    "    params = {'authkey':myConfig['authService']['password'],'pid':pid}\n",
    "    r = requests.post(url,data=params)\n",
    "    if(r.text==myConfig['authService']['valueIfTrue']):\n",
    "        result=True\n",
    "    return result\n",
    "\n",
    "for user in users:\n",
    "    d_esriUsername = user.username\n",
    "    d_fullName = user.fullName\n",
    "    d_email = user.email\n",
    "    d_pid = user.username.rsplit(\"_\"+myConfig['agolOrg']['shortName'])[0]\n",
    "\n",
    "    # Call the custom REST service \n",
    "    d_active = \"false\"\n",
    "    if(isActiveVT(d_pid)):\n",
    "        d_active = myConfig['authService']['valueIfTrue']\n",
    "    \n",
    "    currentUserInfo = {\"pid\":d_pid,\n",
    "                        \"esriUsername\":d_esriUsername,\n",
    "                        \"fullName\":d_fullName,\n",
    "                        \"email\":d_email,\n",
    "                        \"active\":d_active}\n",
    "    userList.append(currentUserInfo)\n",
    "    \n",
    "# iteration done.\n",
    "# now let's make a dataframe.  We'll use this later.\n",
    "df = pandas.DataFrame(userList)\n",
    "df"
   ]
  },
  {
   "cell_type": "code",
   "execution_count": null,
   "metadata": {
    "slideshow": {
     "slide_type": "skip"
    }
   },
   "outputs": [],
   "source": [
    "# So in this situation we would want to generate a list of users who need to be deprovisioned.  \n",
    "# We could send them an automatic e-mail...\n"
   ]
  },
  {
   "cell_type": "markdown",
   "metadata": {
    "slideshow": {
     "slide_type": "slide"
    }
   },
   "source": [
    "# Options for running Python API code in production\n",
    "* Interactively \n",
    " * Jupyter noteboook\n",
    " * Your preferred Python IDE\n",
    " * Command line\n",
    "* Event driven\n",
    " * AWS Lambda\n",
    "* Recurring\n",
    " * AWS Lambda\n",
    " * cron job/ scheduled task"
   ]
  },
  {
   "cell_type": "markdown",
   "metadata": {
    "slideshow": {
     "slide_type": "subslide"
    }
   },
   "source": [
    "![lambda](lambda.png)"
   ]
  },
  {
   "attachments": {},
   "cell_type": "markdown",
   "metadata": {
    "slideshow": {
     "slide_type": "slide"
    }
   },
   "source": [
    "# Link to this Presentation and Code\n",
    "![qr](qr.png)\n",
    "https://github.com/sspeery/esri-seuc-2018 \n",
    "\n"
   ]
  },
  {
   "cell_type": "markdown",
   "metadata": {
    "slideshow": {
     "slide_type": "slide"
    }
   },
   "source": [
    "# Presenter Contact Information\n",
    ">*Seth Peery*  \n",
    ">    Senior GIS Architect  \n",
    ">    Enterprise GIS (0214)  \n",
    ">        1700 Pratt Drive  \n",
    ">        Blacksburg, VA 24061  \n",
    ">    (540) 231-2178  \n",
    ">    sspeery@vt.edu   \n",
    ">    http://gis.vt.edu"
   ]
  },
  {
   "cell_type": "code",
   "execution_count": null,
   "metadata": {},
   "outputs": [],
   "source": []
  }
 ],
 "metadata": {
  "celltoolbar": "Slideshow",
  "kernelspec": {
   "display_name": "Python 3",
   "language": "python",
   "name": "python3"
  },
  "language_info": {
   "codemirror_mode": {
    "name": "ipython",
    "version": 3
   },
   "file_extension": ".py",
   "mimetype": "text/x-python",
   "name": "python",
   "nbconvert_exporter": "python",
   "pygments_lexer": "ipython3",
   "version": "3.6.4"
  },
  "livereveal": {
   "theme": "serif",
   "transition": "convex"
  }
 },
 "nbformat": 4,
 "nbformat_minor": 2
}
